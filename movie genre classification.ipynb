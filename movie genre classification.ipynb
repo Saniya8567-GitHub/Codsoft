{
 "cells": [
  {
   "cell_type": "code",
   "execution_count": 1,
   "id": "267e6e80-757d-449c-aff0-e7bf1004e195",
   "metadata": {},
   "outputs": [],
   "source": [
    "import pandas as pd\n",
    "import numpy as np\n",
    "import matplotlib.pyplot as plt\n",
    "import seaborn as sns"
   ]
  },
  {
   "cell_type": "code",
   "execution_count": 3,
   "id": "d1ee471c-6a8d-493c-93de-36030d422875",
   "metadata": {},
   "outputs": [
    {
     "name": "stderr",
     "output_type": "stream",
     "text": [
      "C:\\Users\\LENOVO\\AppData\\Local\\Temp\\ipykernel_13564\\2418192497.py:2: ParserWarning: Falling back to the 'python' engine because the 'c' engine does not support regex separators (separators > 1 char and different from '\\s+' are interpreted as regex); you can avoid this warning by specifying engine='python'.\n",
      "  df = pd.read_csv('C:\\\\Users\\\\LENOVO\\\\extracted_data\\\\Genre Classification Dataset\\\\train_data.txt', delimiter=':::', names=['Title', 'Genre', 'Description'])\n",
      "C:\\Users\\LENOVO\\AppData\\Local\\Temp\\ipykernel_13564\\2418192497.py:3: ParserWarning: Falling back to the 'python' engine because the 'c' engine does not support regex separators (separators > 1 char and different from '\\s+' are interpreted as regex); you can avoid this warning by specifying engine='python'.\n",
      "  df_test = pd.read_csv('C:\\\\Users\\\\LENOVO\\\\extracted_data\\\\Genre Classification Dataset\\\\test_data.txt', delimiter=':::', names=['Title', 'Description'])\n"
     ]
    },
    {
     "name": "stdout",
     "output_type": "stream",
     "text": [
      "Data loaded successfully!\n",
      "                                Title       Genre  \\\n",
      "1       Oscar et la dame rose (2009)       drama    \n",
      "2                       Cupid (1997)    thriller    \n",
      "3   Young, Wild and Wonderful (1980)       adult    \n",
      "4              The Secret Sin (1915)       drama    \n",
      "5             The Unrecovered (2007)       drama    \n",
      "\n",
      "                                         Description  \n",
      "1   Listening in to a conversation between his do...  \n",
      "2   A brother and sister with a past incestuous r...  \n",
      "3   As the bus empties the students for their fie...  \n",
      "4   To help their unemployed father make ends mee...  \n",
      "5   The film's title refers not only to the un-re...  \n",
      "                           Title  \\\n",
      "1          Edgar's Lunch (1998)    \n",
      "2      La guerra de papá (1977)    \n",
      "3   Off the Beaten Track (2010)    \n",
      "4        Meu Amigo Hindu (2015)    \n",
      "5             Er nu zhai (1955)    \n",
      "\n",
      "                                         Description  \n",
      "1   L.R. Brane loves his life - his car, his apar...  \n",
      "2   Spain, March 1964: Quico is a very naughty ch...  \n",
      "3   One year in the life of Albin and his family ...  \n",
      "4   His father has died, he hasn't spoken with hi...  \n",
      "5   Before he was known internationally as a mart...  \n"
     ]
    }
   ],
   "source": [
    "try:\n",
    "    df = pd.read_csv('C:\\\\Users\\\\LENOVO\\\\extracted_data\\\\Genre Classification Dataset\\\\train_data.txt', delimiter=':::', names=['Title', 'Genre', 'Description'])\n",
    "    df_test = pd.read_csv('C:\\\\Users\\\\LENOVO\\\\extracted_data\\\\Genre Classification Dataset\\\\test_data.txt', delimiter=':::', names=['Title', 'Description'])\n",
    "    print(\"Data loaded successfully!\")\n",
    "    print(df.head())\n",
    "    print(df_test.head())\n",
    "    \n",
    "except Exception as e:\n",
    "    print(f\"Error loading data: {e}\")"
   ]
  },
  {
   "cell_type": "code",
   "execution_count": 4,
   "id": "41d9b436-6616-4879-8315-19d4e9494600",
   "metadata": {},
   "outputs": [
    {
     "data": {
      "text/html": [
       "<div>\n",
       "<style scoped>\n",
       "    .dataframe tbody tr th:only-of-type {\n",
       "        vertical-align: middle;\n",
       "    }\n",
       "\n",
       "    .dataframe tbody tr th {\n",
       "        vertical-align: top;\n",
       "    }\n",
       "\n",
       "    .dataframe thead th {\n",
       "        text-align: right;\n",
       "    }\n",
       "</style>\n",
       "<table border=\"1\" class=\"dataframe\">\n",
       "  <thead>\n",
       "    <tr style=\"text-align: right;\">\n",
       "      <th></th>\n",
       "      <th>Title</th>\n",
       "      <th>Genre</th>\n",
       "      <th>Description</th>\n",
       "    </tr>\n",
       "  </thead>\n",
       "  <tbody>\n",
       "    <tr>\n",
       "      <th>1</th>\n",
       "      <td>Oscar et la dame rose (2009)</td>\n",
       "      <td>drama</td>\n",
       "      <td>Listening in to a conversation between his do...</td>\n",
       "    </tr>\n",
       "    <tr>\n",
       "      <th>2</th>\n",
       "      <td>Cupid (1997)</td>\n",
       "      <td>thriller</td>\n",
       "      <td>A brother and sister with a past incestuous r...</td>\n",
       "    </tr>\n",
       "    <tr>\n",
       "      <th>3</th>\n",
       "      <td>Young, Wild and Wonderful (1980)</td>\n",
       "      <td>adult</td>\n",
       "      <td>As the bus empties the students for their fie...</td>\n",
       "    </tr>\n",
       "    <tr>\n",
       "      <th>4</th>\n",
       "      <td>The Secret Sin (1915)</td>\n",
       "      <td>drama</td>\n",
       "      <td>To help their unemployed father make ends mee...</td>\n",
       "    </tr>\n",
       "    <tr>\n",
       "      <th>5</th>\n",
       "      <td>The Unrecovered (2007)</td>\n",
       "      <td>drama</td>\n",
       "      <td>The film's title refers not only to the un-re...</td>\n",
       "    </tr>\n",
       "  </tbody>\n",
       "</table>\n",
       "</div>"
      ],
      "text/plain": [
       "                                Title       Genre  \\\n",
       "1       Oscar et la dame rose (2009)       drama    \n",
       "2                       Cupid (1997)    thriller    \n",
       "3   Young, Wild and Wonderful (1980)       adult    \n",
       "4              The Secret Sin (1915)       drama    \n",
       "5             The Unrecovered (2007)       drama    \n",
       "\n",
       "                                         Description  \n",
       "1   Listening in to a conversation between his do...  \n",
       "2   A brother and sister with a past incestuous r...  \n",
       "3   As the bus empties the students for their fie...  \n",
       "4   To help their unemployed father make ends mee...  \n",
       "5   The film's title refers not only to the un-re...  "
      ]
     },
     "execution_count": 4,
     "metadata": {},
     "output_type": "execute_result"
    }
   ],
   "source": [
    "df.head(5)"
   ]
  },
  {
   "cell_type": "code",
   "execution_count": 5,
   "id": "6a2e2209-327c-4168-8910-3b1c721bc4c5",
   "metadata": {},
   "outputs": [
    {
     "data": {
      "text/plain": [
       "Title          0\n",
       "Genre          0\n",
       "Description    0\n",
       "dtype: int64"
      ]
     },
     "execution_count": 5,
     "metadata": {},
     "output_type": "execute_result"
    }
   ],
   "source": [
    "df.isnull().sum()"
   ]
  },
  {
   "cell_type": "code",
   "execution_count": 6,
   "id": "fda592c6-0068-4b79-a4a0-838c4a9fa565",
   "metadata": {},
   "outputs": [
    {
     "data": {
      "text/plain": [
       "Title          object\n",
       "Genre          object\n",
       "Description    object\n",
       "dtype: object"
      ]
     },
     "execution_count": 6,
     "metadata": {},
     "output_type": "execute_result"
    }
   ],
   "source": [
    "df.dtypes"
   ]
  },
  {
   "cell_type": "code",
   "execution_count": 7,
   "id": "1b158394-f95c-4a8e-9949-80d35d9c5ff9",
   "metadata": {},
   "outputs": [
    {
     "data": {
      "text/plain": [
       "np.int64(0)"
      ]
     },
     "execution_count": 7,
     "metadata": {},
     "output_type": "execute_result"
    }
   ],
   "source": [
    "df.duplicated().sum()"
   ]
  },
  {
   "cell_type": "code",
   "execution_count": 9,
   "id": "8dd1f186-2f47-4c6d-9b62-949cac111a56",
   "metadata": {},
   "outputs": [
    {
     "name": "stdout",
     "output_type": "stream",
     "text": [
      "Index(['Title', 'Genre', 'Description'], dtype='object')\n"
     ]
    }
   ],
   "source": [
    "print(df.columns)\n"
   ]
  },
  {
   "cell_type": "code",
   "execution_count": 10,
   "id": "075f0614-cf95-4858-baaa-95c1d6dcfb51",
   "metadata": {},
   "outputs": [
    {
     "name": "stdout",
     "output_type": "stream",
     "text": [
      "                                Title       Genre  \\\n",
      "1       Oscar et la dame rose (2009)       drama    \n",
      "2                       Cupid (1997)    thriller    \n",
      "3   Young, Wild and Wonderful (1980)       adult    \n",
      "4              The Secret Sin (1915)       drama    \n",
      "5             The Unrecovered (2007)       drama    \n",
      "\n",
      "                                         Description  \n",
      "1   Listening in to a conversation between his do...  \n",
      "2   A brother and sister with a past incestuous r...  \n",
      "3   As the bus empties the students for their fie...  \n",
      "4   To help their unemployed father make ends mee...  \n",
      "5   The film's title refers not only to the un-re...  \n"
     ]
    }
   ],
   "source": [
    "print(df.head())\n"
   ]
  },
  {
   "cell_type": "code",
   "execution_count": 11,
   "id": "75f5a3af-5a51-450d-8bd9-1ea91b8d45ce",
   "metadata": {},
   "outputs": [],
   "source": [
    "df.columns = df.columns.str.strip()\n"
   ]
  },
  {
   "cell_type": "code",
   "execution_count": 12,
   "id": "7d8715db-6a70-4336-b0d2-2539ad00b478",
   "metadata": {},
   "outputs": [
    {
     "name": "stdout",
     "output_type": "stream",
     "text": [
      "Column 'genre' not found. Available columns: Index(['Title', 'Genre', 'Description'], dtype='object')\n"
     ]
    }
   ],
   "source": [
    "if 'genre' not in df.columns:\n",
    "    print(\"Column 'genre' not found. Available columns:\", df.columns)\n"
   ]
  },
  {
   "cell_type": "code",
   "execution_count": 14,
   "id": "03d29f4b-f7b6-4371-87ae-6bdbbc43960e",
   "metadata": {},
   "outputs": [
    {
     "name": "stdout",
     "output_type": "stream",
     "text": [
      "[' drama ' ' thriller ' ' adult ' ' documentary ' ' comedy ' ' crime '\n",
      " ' reality-tv ' ' horror ' ' sport ' ' animation ' ' action ' ' fantasy '\n",
      " ' short ' ' sci-fi ' ' music ' ' adventure ' ' talk-show ' ' western '\n",
      " ' family ' ' mystery ' ' history ' ' news ' ' biography ' ' romance '\n",
      " ' game-show ' ' musical ' ' war ']\n"
     ]
    }
   ],
   "source": [
    "categories = df['Genre'].unique()  # Replace 'genre' with the actual column name\n",
    "print(categories)\n"
   ]
  },
  {
   "cell_type": "code",
   "execution_count": 16,
   "id": "3332b942-3ac9-48e4-a40d-7a528966e462",
   "metadata": {},
   "outputs": [
    {
     "name": "stdout",
     "output_type": "stream",
     "text": [
      "['Title', 'Genre', 'Description']\n"
     ]
    }
   ],
   "source": [
    "print(df.columns.tolist())\n"
   ]
  },
  {
   "cell_type": "code",
   "execution_count": 17,
   "id": "dbcf37d3-f3a2-467d-a84a-5e93d7fc8c4e",
   "metadata": {},
   "outputs": [
    {
     "name": "stdout",
     "output_type": "stream",
     "text": [
      "[' drama ' ' thriller ' ' adult ' ' documentary ' ' comedy ' ' crime '\n",
      " ' reality-tv ' ' horror ' ' sport ' ' animation ' ' action ' ' fantasy '\n",
      " ' short ' ' sci-fi ' ' music ' ' adventure ' ' talk-show ' ' western '\n",
      " ' family ' ' mystery ' ' history ' ' news ' ' biography ' ' romance '\n",
      " ' game-show ' ' musical ' ' war ']\n"
     ]
    }
   ],
   "source": [
    "categories = df['Genre'].unique()  # Replace 'genre' with the correct name\n",
    "print(categories)\n"
   ]
  },
  {
   "cell_type": "code",
   "execution_count": 18,
   "id": "81f6a92f-7c57-449a-b104-d5e2ce916971",
   "metadata": {},
   "outputs": [
    {
     "name": "stdout",
     "output_type": "stream",
     "text": [
      "['title', 'genre', 'description']\n"
     ]
    }
   ],
   "source": [
    "df.columns = df.columns.str.strip().str.lower()  # Standardize column names to lowercase\n",
    "print(df.columns.tolist())\n"
   ]
  },
  {
   "cell_type": "code",
   "execution_count": 19,
   "id": "f34c40ec-4105-4f86-90cb-28c3282f9e37",
   "metadata": {},
   "outputs": [
    {
     "name": "stdout",
     "output_type": "stream",
     "text": [
      "[' drama ' ' thriller ' ' adult ' ' documentary ' ' comedy ' ' crime '\n",
      " ' reality-tv ' ' horror ' ' sport ' ' animation ' ' action ' ' fantasy '\n",
      " ' short ' ' sci-fi ' ' music ' ' adventure ' ' talk-show ' ' western '\n",
      " ' family ' ' mystery ' ' history ' ' news ' ' biography ' ' romance '\n",
      " ' game-show ' ' musical ' ' war ']\n"
     ]
    }
   ],
   "source": [
    "categories = df['genre'].unique()\n",
    "print(categories)\n"
   ]
  },
  {
   "cell_type": "code",
   "execution_count": 20,
   "id": "c4e21208-8b45-4dc3-8e50-ef834b2970a8",
   "metadata": {},
   "outputs": [
    {
     "name": "stdout",
     "output_type": "stream",
     "text": [
      "                                title       genre  \\\n",
      "1       Oscar et la dame rose (2009)       drama    \n",
      "2                       Cupid (1997)    thriller    \n",
      "3   Young, Wild and Wonderful (1980)       adult    \n",
      "4              The Secret Sin (1915)       drama    \n",
      "5             The Unrecovered (2007)       drama    \n",
      "\n",
      "                                         description  \n",
      "1   Listening in to a conversation between his do...  \n",
      "2   A brother and sister with a past incestuous r...  \n",
      "3   As the bus empties the students for their fie...  \n",
      "4   To help their unemployed father make ends mee...  \n",
      "5   The film's title refers not only to the un-re...  \n",
      "<class 'pandas.core.frame.DataFrame'>\n",
      "Index: 54214 entries, 1 to 54214\n",
      "Data columns (total 3 columns):\n",
      " #   Column       Non-Null Count  Dtype \n",
      "---  ------       --------------  ----- \n",
      " 0   title        54214 non-null  object\n",
      " 1   genre        54214 non-null  object\n",
      " 2   description  54214 non-null  object\n",
      "dtypes: object(3)\n",
      "memory usage: 1.7+ MB\n",
      "None\n"
     ]
    }
   ],
   "source": [
    "print(df.head())  # Display the first few rows\n",
    "print(df.info())  # Show column details and non-null counts\n"
   ]
  },
  {
   "cell_type": "code",
   "execution_count": 24,
   "id": "ad290628-8f83-4feb-8eb9-05edbac5bd8e",
   "metadata": {},
   "outputs": [
    {
     "name": "stderr",
     "output_type": "stream",
     "text": [
      "C:\\Users\\LENOVO\\AppData\\Local\\Temp\\ipykernel_13564\\87955596.py:1: ParserWarning: Falling back to the 'python' engine because the 'c' engine does not support regex separators (separators > 1 char and different from '\\s+' are interpreted as regex); you can avoid this warning by specifying engine='python'.\n",
      "  df = pd.read_csv('C:\\\\Users\\\\LENOVO\\\\extracted_data\\\\Genre Classification Dataset\\\\train_data.txt', delimiter=':::', names=['Title', 'Genre', 'Description'])  # Replace with your file path\n"
     ]
    },
    {
     "name": "stdout",
     "output_type": "stream",
     "text": [
      "['Title', 'Genre', 'Description']\n"
     ]
    }
   ],
   "source": [
    "df = pd.read_csv('C:\\\\Users\\\\LENOVO\\\\extracted_data\\\\Genre Classification Dataset\\\\train_data.txt', delimiter=':::', names=['Title', 'Genre', 'Description'])  # Replace with your file path\n",
    "print(df.columns.tolist())\n"
   ]
  },
  {
   "cell_type": "code",
   "execution_count": 25,
   "id": "5d9f3863-59b0-4cb3-9a53-32fa29750d37",
   "metadata": {},
   "outputs": [
    {
     "name": "stdout",
     "output_type": "stream",
     "text": [
      "Column 'genre' not found! Available columns are: ['Title', 'Genre', 'Description']\n"
     ]
    }
   ],
   "source": [
    "if 'genre' not in df.columns:\n",
    "    print(\"Column 'genre' not found! Available columns are:\", df.columns.tolist())\n"
   ]
  },
  {
   "cell_type": "code",
   "execution_count": 26,
   "id": "b1f1b878-5494-429c-9f29-294134318dd5",
   "metadata": {},
   "outputs": [
    {
     "name": "stdout",
     "output_type": "stream",
     "text": [
      "[' drama ' ' thriller ' ' adult ' ' documentary ' ' comedy ' ' crime '\n",
      " ' reality-tv ' ' horror ' ' sport ' ' animation ' ' action ' ' fantasy '\n",
      " ' short ' ' sci-fi ' ' music ' ' adventure ' ' talk-show ' ' western '\n",
      " ' family ' ' mystery ' ' history ' ' news ' ' biography ' ' romance '\n",
      " ' game-show ' ' musical ' ' war ']\n"
     ]
    }
   ],
   "source": [
    "# Standardizing column names (optional)\n",
    "df.columns = df.columns.str.lower()\n",
    "\n",
    "# Accessing the 'genre' column\n",
    "categories = df['genre'].unique()\n",
    "print(categories)\n"
   ]
  },
  {
   "cell_type": "code",
   "execution_count": 27,
   "id": "b44676d7-2118-469f-a096-820a62c953a3",
   "metadata": {},
   "outputs": [
    {
     "data": {
      "text/plain": [
       "genre\n",
       "drama           13613\n",
       "documentary     13096\n",
       "comedy           7447\n",
       "short            5073\n",
       "horror           2204\n",
       "thriller         1591\n",
       "action           1315\n",
       "western          1032\n",
       "reality-tv        884\n",
       "family            784\n",
       "adventure         775\n",
       "music             731\n",
       "romance           672\n",
       "sci-fi            647\n",
       "adult             590\n",
       "crime             505\n",
       "animation         498\n",
       "sport             432\n",
       "talk-show         391\n",
       "fantasy           323\n",
       "mystery           319\n",
       "musical           277\n",
       "biography         265\n",
       "history           243\n",
       "game-show         194\n",
       "news              181\n",
       "war               132\n",
       "Name: count, dtype: int64"
      ]
     },
     "execution_count": 27,
     "metadata": {},
     "output_type": "execute_result"
    }
   ],
   "source": [
    "values= df['genre'].value_counts()\n",
    "values"
   ]
  },
  {
   "cell_type": "code",
   "execution_count": 28,
   "id": "8e30791d-43b3-49e9-bd01-7397223724df",
   "metadata": {},
   "outputs": [
    {
     "data": {
      "image/png": "[encoded data removed]",
      "text/plain": [
       "<Figure size 2000x1000 with 1 Axes>"
      ]
     },
     "metadata": {},
     "output_type": "display_data"
    }
   ],
   "source": [
    "plt.figure(figsize=(20,10))\n",
    "colors = [ '#264653']\n",
    "plt.bar(categories,values,color=colors)\n",
    "plt.tick_params(axis='x', labelsize=12, rotation=45)\n",
    "plt.title('Number Of Movies By Gener',fontsize=20)\n",
    "plt.ylabel('Number of Movies',fontsize=16)\n",
    "plt.xlabel('Genre',fontsize=16)\n",
    "ax = plt.gca()\n",
    "ax.spines['top'].set_visible(False)\n",
    "ax.spines['right'].set_visible(False)\n",
    "plt.show()"
   ]
  },
  {
   "cell_type": "code",
   "execution_count": 29,
   "id": "8157b21c-862a-46da-ba5e-2aaae8345770",
   "metadata": {},
   "outputs": [
    {
     "data": {
      "image/png": "[encoded data removed]",
      "text/plain": [
       "<Figure size 2000x1000 with 1 Axes>"
      ]
     },
     "metadata": {},
     "output_type": "display_data"
    }
   ],
   "source": [
    "plt.figure(figsize=(20, 10))\n",
    "colors = [ '#264653']\n",
    "sns.countplot(data= df, y='genre', order= df['genre'].value_counts().index,color= colors[0])\n",
    "plt.title('Number Of Movies By Gener',fontsize=20)\n",
    "plt.ylabel('Genre',fontsize=16)\n",
    "plt.xlabel('Number Of Movies',fontsize=16)\n",
    "ax = plt.gca()\n",
    "ax.set_xticks([])\n",
    "ax.spines['top'].set_visible(False)\n",
    "ax.spines['right'].set_visible(False)\n",
    "ax.spines['bottom'].set_visible(False)\n",
    "for p in ax.patches:\n",
    "    ax.annotate(f'{int(p.get_width())}', \n",
    "                (p.get_width(), p.get_y() + p.get_height() / 2), \n",
    "                ha='center', va='center', \n",
    "                fontsize=12, color='black', \n",
    "                xytext=(20, 0), textcoords='offset points')\n",
    "plt.show()"
   ]
  },
  {
   "cell_type": "code",
   "execution_count": 30,
   "id": "f87e4979-5d71-4e9f-bac9-d1b47ea6d111",
   "metadata": {},
   "outputs": [
    {
     "data": {
      "text/plain": [
       "Index(['title', 'genre', 'description'], dtype='object')"
      ]
     },
     "execution_count": 30,
     "metadata": {},
     "output_type": "execute_result"
    }
   ],
   "source": [
    "df.columns"
   ]
  },
  {
   "cell_type": "code",
   "execution_count": 31,
   "id": "5473c0e8-68f3-452f-9354-4952e2705649",
   "metadata": {},
   "outputs": [],
   "source": [
    "import re \n",
    "import nltk\n",
    "import string\n",
    "from nltk.corpus import stopwords\n",
    "from nltk.stem import LancasterStemmer\n",
    "from sklearn.feature_extraction.text import TfidfVectorizer\n",
    "from sklearn.model_selection import train_test_split\n",
    "from sklearn.naive_bayes import MultinomialNB\n",
    "from sklearn.metrics import accuracy_score, classification_report"
   ]
  },
  {
   "cell_type": "code",
   "execution_count": 32,
   "id": "147c8622-3f07-4a1c-8c3b-03869f7064c7",
   "metadata": {},
   "outputs": [
    {
     "name": "stderr",
     "output_type": "stream",
     "text": [
      "<>:16: SyntaxWarning: invalid escape sequence '\\s'\n",
      "<>:16: SyntaxWarning: invalid escape sequence '\\s'\n",
      "C:\\Users\\LENOVO\\AppData\\Local\\Temp\\ipykernel_13564\\2463373792.py:16: SyntaxWarning: invalid escape sequence '\\s'\n",
      "  text = re.sub(\"\\s[\\s]+\", \" \", text).strip()\n",
      "[nltk_data] Downloading package stopwords to\n",
      "[nltk_data]     C:\\Users\\LENOVO\\AppData\\Roaming\\nltk_data...\n",
      "[nltk_data]   Package stopwords is already up-to-date!\n",
      "[nltk_data] Downloading package punkt to\n",
      "[nltk_data]     C:\\Users\\LENOVO\\AppData\\Roaming\\nltk_data...\n",
      "[nltk_data]   Unzipping tokenizers\\punkt.zip.\n"
     ]
    }
   ],
   "source": [
    "nltk.download('stopwords')\n",
    "nltk.download('punkt')\n",
    "stemmer = LancasterStemmer()\n",
    "stop_words = set(stopwords.words('english'))\n",
    "def text_cleaner(text):\n",
    "    text = text.lower()\n",
    "    text = re.sub(r'[^\\w\\s]', '',text)\n",
    "    text = re.sub(r'http\\S+', '', text) \n",
    "    text = re.sub(r'pic.\\S+', '', text)\n",
    "    text = re.sub(r\"[^a-zA-Z+']\",' ', text)\n",
    "    text = re.sub(r'\\s+[a-zA-Z]\\s+', ' ',text + ' ')\n",
    "    text = \"\".join([i for i in text if i not in string.punctuation])\n",
    "    words = nltk.word_tokenize(text)\n",
    "    stopwords = nltk.corpus.stopwords.words('english')\n",
    "    text = \" \".join([i for i in words if i not in stopwords and len(i) > 2])\n",
    "    text = re.sub(\"\\s[\\s]+\", \" \", text).strip()\n",
    "    return text "
   ]
  },
  {
   "cell_type": "code",
   "execution_count": 33,
   "id": "2e29fdbf-9cbd-46f0-9cc6-fadaa5770119",
   "metadata": {},
   "outputs": [
    {
     "name": "stdout",
     "output_type": "stream",
     "text": [
      "['C:\\\\Users\\\\LENOVO/nltk_data', 'C:\\\\Users\\\\LENOVO\\\\AppData\\\\Local\\\\Programs\\\\Python\\\\Python313\\\\nltk_data', 'C:\\\\Users\\\\LENOVO\\\\AppData\\\\Local\\\\Programs\\\\Python\\\\Python313\\\\share\\\\nltk_data', 'C:\\\\Users\\\\LENOVO\\\\AppData\\\\Local\\\\Programs\\\\Python\\\\Python313\\\\lib\\\\nltk_data', 'C:\\\\Users\\\\LENOVO\\\\AppData\\\\Roaming\\\\nltk_data', 'C:\\\\nltk_data', 'D:\\\\nltk_data', 'E:\\\\nltk_data']\n"
     ]
    }
   ],
   "source": [
    "print(nltk.data.path)"
   ]
  },
  {
   "cell_type": "code",
   "execution_count": null,
   "id": "a8aa0395-c348-4854-92f5-d66833c620d1",
   "metadata": {},
   "outputs": [],
   "source": [
    "df['description_cleand'] = df['description'].apply(text_cleaner)\n",
    "df_test['desciption_cleaned_test'] = df_test['description'].apply(text_cleaner)"
   ]
  },
  {
   "cell_type": "code",
   "execution_count": null,
   "id": "5300da62-9d0a-482a-b05b-e6fa325d26e8",
   "metadata": {},
   "outputs": [],
   "source": [
    "df['Description_len'] = df['description'].apply(len)\n",
    "df['Description_cleand_len'] = df['Description_cleand'].apply(len)"
   ]
  },
  {
   "cell_type": "code",
   "execution_count": 36,
   "id": "ea8531a7-8cb0-4dbc-9e13-6b6f5cd83e73",
   "metadata": {},
   "outputs": [
    {
     "data": {
      "text/html": [
       "<div>\n",
       "<style scoped>\n",
       "    .dataframe tbody tr th:only-of-type {\n",
       "        vertical-align: middle;\n",
       "    }\n",
       "\n",
       "    .dataframe tbody tr th {\n",
       "        vertical-align: top;\n",
       "    }\n",
       "\n",
       "    .dataframe thead th {\n",
       "        text-align: right;\n",
       "    }\n",
       "</style>\n",
       "<table border=\"1\" class=\"dataframe\">\n",
       "  <thead>\n",
       "    <tr style=\"text-align: right;\">\n",
       "      <th></th>\n",
       "      <th>title</th>\n",
       "      <th>genre</th>\n",
       "      <th>description</th>\n",
       "      <th>Description_cleand</th>\n",
       "      <th>description_cleand</th>\n",
       "    </tr>\n",
       "  </thead>\n",
       "  <tbody>\n",
       "    <tr>\n",
       "      <th>1</th>\n",
       "      <td>Oscar et la dame rose (2009)</td>\n",
       "      <td>drama</td>\n",
       "      <td>Listening in to a conversation between his do...</td>\n",
       "      <td>listening conversation doctor parents yearold ...</td>\n",
       "      <td>listening conversation doctor parents yearold ...</td>\n",
       "    </tr>\n",
       "    <tr>\n",
       "      <th>2</th>\n",
       "      <td>Cupid (1997)</td>\n",
       "      <td>thriller</td>\n",
       "      <td>A brother and sister with a past incestuous r...</td>\n",
       "      <td>brother sister past incestuous relationship cu...</td>\n",
       "      <td>brother sister past incestuous relationship cu...</td>\n",
       "    </tr>\n",
       "    <tr>\n",
       "      <th>3</th>\n",
       "      <td>Young, Wild and Wonderful (1980)</td>\n",
       "      <td>adult</td>\n",
       "      <td>As the bus empties the students for their fie...</td>\n",
       "      <td>bus empties students field trip museum natural...</td>\n",
       "      <td>bus empties students field trip museum natural...</td>\n",
       "    </tr>\n",
       "    <tr>\n",
       "      <th>4</th>\n",
       "      <td>The Secret Sin (1915)</td>\n",
       "      <td>drama</td>\n",
       "      <td>To help their unemployed father make ends mee...</td>\n",
       "      <td>help unemployed father make ends meet edith tw...</td>\n",
       "      <td>help unemployed father make ends meet edith tw...</td>\n",
       "    </tr>\n",
       "    <tr>\n",
       "      <th>5</th>\n",
       "      <td>The Unrecovered (2007)</td>\n",
       "      <td>drama</td>\n",
       "      <td>The film's title refers not only to the un-re...</td>\n",
       "      <td>films title refers unrecovered bodies ground z...</td>\n",
       "      <td>films title refers unrecovered bodies ground z...</td>\n",
       "    </tr>\n",
       "    <tr>\n",
       "      <th>...</th>\n",
       "      <td>...</td>\n",
       "      <td>...</td>\n",
       "      <td>...</td>\n",
       "      <td>...</td>\n",
       "      <td>...</td>\n",
       "    </tr>\n",
       "    <tr>\n",
       "      <th>54210</th>\n",
       "      <td>\"Bonino\" (1953)</td>\n",
       "      <td>comedy</td>\n",
       "      <td>This short-lived NBC live sitcom centered on ...</td>\n",
       "      <td>shortlived nbc live sitcom centered bonino wor...</td>\n",
       "      <td>shortlived nbc live sitcom centered bonino wor...</td>\n",
       "    </tr>\n",
       "    <tr>\n",
       "      <th>54211</th>\n",
       "      <td>Dead Girls Don't Cry (????)</td>\n",
       "      <td>horror</td>\n",
       "      <td>The NEXT Generation of EXPLOITATION. The sist...</td>\n",
       "      <td>next generation exploitation sisters kapa bay ...</td>\n",
       "      <td>next generation exploitation sisters kapa bay ...</td>\n",
       "    </tr>\n",
       "    <tr>\n",
       "      <th>54212</th>\n",
       "      <td>Ronald Goedemondt: Ze bestaan echt (2008)</td>\n",
       "      <td>documentary</td>\n",
       "      <td>Ze bestaan echt, is a stand-up comedy about g...</td>\n",
       "      <td>bestaan echt standup comedy growing facing fea...</td>\n",
       "      <td>bestaan echt standup comedy growing facing fea...</td>\n",
       "    </tr>\n",
       "    <tr>\n",
       "      <th>54213</th>\n",
       "      <td>Make Your Own Bed (1944)</td>\n",
       "      <td>comedy</td>\n",
       "      <td>Walter and Vivian live in the country and hav...</td>\n",
       "      <td>walter vivian live country difficult time keep...</td>\n",
       "      <td>walter vivian live country difficult time keep...</td>\n",
       "    </tr>\n",
       "    <tr>\n",
       "      <th>54214</th>\n",
       "      <td>Nature's Fury: Storm of the Century (2006)</td>\n",
       "      <td>history</td>\n",
       "      <td>On Labor Day Weekend, 1935, the most intense ...</td>\n",
       "      <td>labor day weekend intense hurricane ever make ...</td>\n",
       "      <td>labor day weekend intense hurricane ever make ...</td>\n",
       "    </tr>\n",
       "  </tbody>\n",
       "</table>\n",
       "<p>54214 rows × 5 columns</p>\n",
       "</div>"
      ],
      "text/plain": [
       "                                              title          genre  \\\n",
       "1                     Oscar et la dame rose (2009)          drama    \n",
       "2                                     Cupid (1997)       thriller    \n",
       "3                 Young, Wild and Wonderful (1980)          adult    \n",
       "4                            The Secret Sin (1915)          drama    \n",
       "5                           The Unrecovered (2007)          drama    \n",
       "...                                             ...            ...   \n",
       "54210                              \"Bonino\" (1953)         comedy    \n",
       "54211                  Dead Girls Don't Cry (????)         horror    \n",
       "54212    Ronald Goedemondt: Ze bestaan echt (2008)    documentary    \n",
       "54213                     Make Your Own Bed (1944)         comedy    \n",
       "54214   Nature's Fury: Storm of the Century (2006)        history    \n",
       "\n",
       "                                             description  \\\n",
       "1       Listening in to a conversation between his do...   \n",
       "2       A brother and sister with a past incestuous r...   \n",
       "3       As the bus empties the students for their fie...   \n",
       "4       To help their unemployed father make ends mee...   \n",
       "5       The film's title refers not only to the un-re...   \n",
       "...                                                  ...   \n",
       "54210   This short-lived NBC live sitcom centered on ...   \n",
       "54211   The NEXT Generation of EXPLOITATION. The sist...   \n",
       "54212   Ze bestaan echt, is a stand-up comedy about g...   \n",
       "54213   Walter and Vivian live in the country and hav...   \n",
       "54214   On Labor Day Weekend, 1935, the most intense ...   \n",
       "\n",
       "                                      Description_cleand  \\\n",
       "1      listening conversation doctor parents yearold ...   \n",
       "2      brother sister past incestuous relationship cu...   \n",
       "3      bus empties students field trip museum natural...   \n",
       "4      help unemployed father make ends meet edith tw...   \n",
       "5      films title refers unrecovered bodies ground z...   \n",
       "...                                                  ...   \n",
       "54210  shortlived nbc live sitcom centered bonino wor...   \n",
       "54211  next generation exploitation sisters kapa bay ...   \n",
       "54212  bestaan echt standup comedy growing facing fea...   \n",
       "54213  walter vivian live country difficult time keep...   \n",
       "54214  labor day weekend intense hurricane ever make ...   \n",
       "\n",
       "                                      description_cleand  \n",
       "1      listening conversation doctor parents yearold ...  \n",
       "2      brother sister past incestuous relationship cu...  \n",
       "3      bus empties students field trip museum natural...  \n",
       "4      help unemployed father make ends meet edith tw...  \n",
       "5      films title refers unrecovered bodies ground z...  \n",
       "...                                                  ...  \n",
       "54210  shortlived nbc live sitcom centered bonino wor...  \n",
       "54211  next generation exploitation sisters kapa bay ...  \n",
       "54212  bestaan echt standup comedy growing facing fea...  \n",
       "54213  walter vivian live country difficult time keep...  \n",
       "54214  labor day weekend intense hurricane ever make ...  \n",
       "\n",
       "[54214 rows x 5 columns]"
      ]
     },
     "execution_count": 36,
     "metadata": {},
     "output_type": "execute_result"
    }
   ],
   "source": [
    "df"
   ]
  },
  {
   "cell_type": "code",
   "execution_count": 37,
   "id": "059afd0b-ad84-44e8-a5f6-00dbdaba033a",
   "metadata": {},
   "outputs": [
    {
     "data": {
      "text/html": [
       "<div>\n",
       "<style scoped>\n",
       "    .dataframe tbody tr th:only-of-type {\n",
       "        vertical-align: middle;\n",
       "    }\n",
       "\n",
       "    .dataframe tbody tr th {\n",
       "        vertical-align: top;\n",
       "    }\n",
       "\n",
       "    .dataframe thead th {\n",
       "        text-align: right;\n",
       "    }\n",
       "</style>\n",
       "<table border=\"1\" class=\"dataframe\">\n",
       "  <thead>\n",
       "    <tr style=\"text-align: right;\">\n",
       "      <th></th>\n",
       "      <th>Title</th>\n",
       "      <th>Description</th>\n",
       "    </tr>\n",
       "  </thead>\n",
       "  <tbody>\n",
       "    <tr>\n",
       "      <th>1</th>\n",
       "      <td>Edgar's Lunch (1998)</td>\n",
       "      <td>L.R. Brane loves his life - his car, his apar...</td>\n",
       "    </tr>\n",
       "    <tr>\n",
       "      <th>2</th>\n",
       "      <td>La guerra de papá (1977)</td>\n",
       "      <td>Spain, March 1964: Quico is a very naughty ch...</td>\n",
       "    </tr>\n",
       "    <tr>\n",
       "      <th>3</th>\n",
       "      <td>Off the Beaten Track (2010)</td>\n",
       "      <td>One year in the life of Albin and his family ...</td>\n",
       "    </tr>\n",
       "    <tr>\n",
       "      <th>4</th>\n",
       "      <td>Meu Amigo Hindu (2015)</td>\n",
       "      <td>His father has died, he hasn't spoken with hi...</td>\n",
       "    </tr>\n",
       "    <tr>\n",
       "      <th>5</th>\n",
       "      <td>Er nu zhai (1955)</td>\n",
       "      <td>Before he was known internationally as a mart...</td>\n",
       "    </tr>\n",
       "    <tr>\n",
       "      <th>...</th>\n",
       "      <td>...</td>\n",
       "      <td>...</td>\n",
       "    </tr>\n",
       "    <tr>\n",
       "      <th>54196</th>\n",
       "      <td>\"Tales of Light &amp; Dark\" (2013)</td>\n",
       "      <td>Covering multiple genres, Tales of Light &amp; Da...</td>\n",
       "    </tr>\n",
       "    <tr>\n",
       "      <th>54197</th>\n",
       "      <td>Der letzte Mohikaner (1965)</td>\n",
       "      <td>As Alice and Cora Munro attempt to find their...</td>\n",
       "    </tr>\n",
       "    <tr>\n",
       "      <th>54198</th>\n",
       "      <td>Oliver Twink (2007)</td>\n",
       "      <td>A movie 169 years in the making. Oliver Twist...</td>\n",
       "    </tr>\n",
       "    <tr>\n",
       "      <th>54199</th>\n",
       "      <td>Slipstream (1973)</td>\n",
       "      <td>Popular, but mysterious rock D.J Mike Mallard...</td>\n",
       "    </tr>\n",
       "    <tr>\n",
       "      <th>54200</th>\n",
       "      <td>Curitiba Zero Grau (2010)</td>\n",
       "      <td>Curitiba is a city in movement, with rhythms ...</td>\n",
       "    </tr>\n",
       "  </tbody>\n",
       "</table>\n",
       "<p>54200 rows × 2 columns</p>\n",
       "</div>"
      ],
      "text/plain": [
       "                                  Title  \\\n",
       "1                 Edgar's Lunch (1998)    \n",
       "2             La guerra de papá (1977)    \n",
       "3          Off the Beaten Track (2010)    \n",
       "4               Meu Amigo Hindu (2015)    \n",
       "5                    Er nu zhai (1955)    \n",
       "...                                 ...   \n",
       "54196   \"Tales of Light & Dark\" (2013)    \n",
       "54197      Der letzte Mohikaner (1965)    \n",
       "54198              Oliver Twink (2007)    \n",
       "54199                Slipstream (1973)    \n",
       "54200        Curitiba Zero Grau (2010)    \n",
       "\n",
       "                                             Description  \n",
       "1       L.R. Brane loves his life - his car, his apar...  \n",
       "2       Spain, March 1964: Quico is a very naughty ch...  \n",
       "3       One year in the life of Albin and his family ...  \n",
       "4       His father has died, he hasn't spoken with hi...  \n",
       "5       Before he was known internationally as a mart...  \n",
       "...                                                  ...  \n",
       "54196   Covering multiple genres, Tales of Light & Da...  \n",
       "54197   As Alice and Cora Munro attempt to find their...  \n",
       "54198   A movie 169 years in the making. Oliver Twist...  \n",
       "54199   Popular, but mysterious rock D.J Mike Mallard...  \n",
       "54200   Curitiba is a city in movement, with rhythms ...  \n",
       "\n",
       "[54200 rows x 2 columns]"
      ]
     },
     "execution_count": 37,
     "metadata": {},
     "output_type": "execute_result"
    }
   ],
   "source": [
    "df_test"
   ]
  },
  {
   "cell_type": "code",
   "execution_count": 43,
   "id": "3304824b-e879-4107-b39a-36830aa10082",
   "metadata": {},
   "outputs": [
    {
     "name": "stdout",
     "output_type": "stream",
     "text": [
      "Adding 'description_len' column...\n",
      "Adding 'description_cleaned_len' column...\n"
     ]
    },
    {
     "data": {
      "image/png": "[encoded data removed]",
      "text/plain": [
       "<Figure size 1200x600 with 1 Axes>"
      ]
     },
     "metadata": {},
     "output_type": "display_data"
    }
   ],
   "source": [
    "# Clean column names\n",
    "df.columns = df.columns.str.strip().str.lower()\n",
    "\n",
    "# Check for 'description' column\n",
    "if 'description' in df.columns:\n",
    "    print(\"Adding 'description_len' column...\")\n",
    "    df['description_len'] = df['description'].apply(len)\n",
    "\n",
    "    if 'description_cleaned_len' not in df.columns:\n",
    "        print(\"Adding 'description_cleaned_len' column...\")\n",
    "        df['description_cleaned_len'] = df['description'].apply(lambda x: len(str(x)))\n",
    "\n",
    "    # Plot KDE plot\n",
    "    plt.figure(figsize=(12, 6))\n",
    "    sns.kdeplot(df['description_len'], label='Description Length', alpha=0.5)\n",
    "    sns.kdeplot(df['description_cleaned_len'], label='Cleaned Description Length', alpha=0.5)\n",
    "    plt.legend()\n",
    "    plt.show()\n",
    "else:\n",
    "    print(\"Column 'description' not found in the DataFrame.\")\n"
   ]
  },
  {
   "cell_type": "code",
   "execution_count": 50,
   "id": "6ee8a30b-9e50-469c-8a82-bf2d69d444fa",
   "metadata": {},
   "outputs": [],
   "source": [
    "# Standardize column names\n",
    "df.columns = df.columns.str.strip().str.lower()\n",
    "\n",
    "# Check for 'description_cleaned' column\n",
    "if 'description_cleaned' not in df.columns:\n",
    "    print(\"Adding 'description_cleaned' column...\")\n",
    "    df['description_cleaned'] = df['description'].apply(lambda x: str(x).lower())\n",
    "\n",
    "# Apply TfidfVectorizer\n",
    "tfidf_vectorizer = TfidfVectorizer()\n",
    "if 'description_cleaned' in df.columns:\n",
    "    X_train = tfidf_vectorizer.fit_transform(df['description_cleaned'])\n",
    "else:\n",
    "    print(\"Column 'description_cleaned' not found in DataFrame.\")\n"
   ]
  },
  {
   "cell_type": "code",
   "execution_count": 54,
   "id": "a296842d-d357-4422-97ac-9da48f67625c",
   "metadata": {},
   "outputs": [
    {
     "name": "stdout",
     "output_type": "stream",
     "text": [
      "Creating 'description_cleaned_test' column...\n",
      "Raw description column not found in df_test. Please check your data.\n",
      "Column 'description_cleaned_test' not found. Transformation cannot proceed.\n"
     ]
    }
   ],
   "source": [
    "# Standardize column names\n",
    "df_test.columns = df_test.columns.str.strip().str.lower()\n",
    "\n",
    "# Create the 'description_cleaned_test' column if not exists\n",
    "if 'description_cleaned_test' not in df_test.columns:\n",
    "    print(\"Creating 'description_cleaned_test' column...\")\n",
    "    if 'description_test' in df_test.columns:\n",
    "        df_test['description_cleaned_test'] = df_test['description_test'].apply(lambda x: str(x).lower())\n",
    "    else:\n",
    "        print(\"Raw description column not found in df_test. Please check your data.\")\n",
    "\n",
    "# Apply TfidfVectorizer\n",
    "tfidf_vectorizer = TfidfVectorizer()\n",
    "X_train = tfidf_vectorizer.fit_transform(df['description_cleaned'])  # Ensure this column exists in `df`\n",
    "\n",
    "if 'description_cleaned_test' in df_test.columns:\n",
    "    X_test = tfidf_vectorizer.transform(df_test['description_cleaned_test'])\n",
    "else:\n",
    "    print(\"Column 'description_cleaned_test' not found. Transformation cannot proceed.\")\n"
   ]
  },
  {
   "cell_type": "code",
   "execution_count": 58,
   "id": "dc331160-b840-4a33-981c-751066392106",
   "metadata": {},
   "outputs": [
    {
     "name": "stdout",
     "output_type": "stream",
     "text": [
      "Found 'description_test' column. Creating 'description_cleaned_test'...\n"
     ]
    }
   ],
   "source": [
    "# Standardize column names\n",
    "df_test.columns = df_test.columns.str.strip().str.lower()\n",
    "\n",
    "# Check raw description column\n",
    "if 'description_test' in df_test.columns:\n",
    "    print(\"Found 'description_test' column. Creating 'description_cleaned_test'...\")\n",
    "    df_test['description_cleaned_test'] = df_test['description_test'].apply(lambda x: str(x).lower())\n",
    "elif 'description' in df_test.columns:  # Check for alternative column names\n",
    "    print(\"Found 'description' column. Renaming and creating 'description_cleaned_test'...\")\n",
    "    df_test.rename(columns={'description': 'description_test'}, inplace=True)\n",
    "    df_test['description_cleaned_test'] = df_test['description_test'].apply(lambda x: str(x).lower())\n",
    "else:\n",
    "    print(\"No suitable raw description column found in df_test. Please ensure your data is correct.\")\n",
    "\n",
    "# Apply TfidfVectorizer if column exists\n",
    "tfidf_vectorizer = TfidfVectorizer()\n",
    "\n",
    "if 'description_cleaned' in df.columns:\n",
    "    X_train = tfidf_vectorizer.fit_transform(df['description_cleaned'])\n",
    "else:\n",
    "    print(\"Column 'description_cleaned' missing in df. Ensure the column exists before vectorizing.\")\n",
    "\n",
    "if 'description_cleaned_test' in df_test.columns:\n",
    "    X_test = tfidf_vectorizer.transform(df_test['description_cleaned_test'])\n",
    "else:\n",
    "    print(\"Column 'description_cleaned_test' not found. Cannot proceed with transformation.\")\n"
   ]
  },
  {
   "cell_type": "code",
   "execution_count": 60,
   "id": "d28a9e27-8d9c-4173-ba57-61b65d6c645a",
   "metadata": {},
   "outputs": [],
   "source": [
    "tfidf_vectorizer = TfidfVectorizer()\n",
    "X_trian = tfidf_vectorizer.fit_transform(df['description_cleand'])\n",
    "X_test = tfidf_vectorizer.transform(df_test['description_cleaned_test'])"
   ]
  },
  {
   "cell_type": "code",
   "execution_count": 61,
   "id": "a8fbad76-72f8-4315-9eb4-c90481c9c706",
   "metadata": {},
   "outputs": [
    {
     "name": "stdout",
     "output_type": "stream",
     "text": [
      "shape_train :  (54214, 121110)\n",
      "shape_test :  (54200, 1)\n"
     ]
    }
   ],
   "source": [
    "print('shape_train : ', X_train.shape)\n",
    "print('shape_test : ', X_test.shape)"
   ]
  },
  {
   "cell_type": "code",
   "execution_count": 62,
   "id": "263d4112-6b1f-4ced-ab68-49896f6b027f",
   "metadata": {},
   "outputs": [
    {
     "name": "stdout",
     "output_type": "stream",
     "text": [
      "Validation Accuracy: 0.44507977497002676\n",
      "               precision    recall  f1-score   support\n",
      "\n",
      "      action        0.00      0.00      0.00       263\n",
      "       adult        0.00      0.00      0.00       112\n",
      "   adventure        0.00      0.00      0.00       139\n",
      "   animation        0.00      0.00      0.00       104\n",
      "   biography        0.00      0.00      0.00        61\n",
      "      comedy        0.57      0.03      0.06      1443\n",
      "       crime        0.00      0.00      0.00       107\n",
      " documentary        0.54      0.90      0.67      2659\n",
      "       drama        0.38      0.89      0.53      2697\n",
      "      family        0.00      0.00      0.00       150\n",
      "     fantasy        0.00      0.00      0.00        74\n",
      "   game-show        0.00      0.00      0.00        40\n",
      "     history        0.00      0.00      0.00        45\n",
      "      horror        0.00      0.00      0.00       431\n",
      "       music        0.00      0.00      0.00       144\n",
      "     musical        0.00      0.00      0.00        50\n",
      "     mystery        0.00      0.00      0.00        56\n",
      "        news        0.00      0.00      0.00        34\n",
      "  reality-tv        0.00      0.00      0.00       192\n",
      "     romance        0.00      0.00      0.00       151\n",
      "      sci-fi        0.00      0.00      0.00       143\n",
      "       short        0.00      0.00      0.00      1045\n",
      "       sport        0.00      0.00      0.00        93\n",
      "   talk-show        0.00      0.00      0.00        81\n",
      "    thriller        0.00      0.00      0.00       309\n",
      "         war        0.00      0.00      0.00        20\n",
      "     western        0.00      0.00      0.00       200\n",
      "\n",
      "     accuracy                           0.45     10843\n",
      "    macro avg       0.06      0.07      0.05     10843\n",
      " weighted avg       0.30      0.45      0.30     10843\n",
      "\n"
     ]
    },
    {
     "name": "stderr",
     "output_type": "stream",
     "text": [
      "C:\\Users\\LENOVO\\AppData\\Local\\Programs\\Python\\Python313\\Lib\\site-packages\\sklearn\\metrics\\_classification.py:1565: UndefinedMetricWarning: Precision is ill-defined and being set to 0.0 in labels with no predicted samples. Use `zero_division` parameter to control this behavior.\n",
      "  _warn_prf(average, modifier, f\"{metric.capitalize()} is\", len(result))\n",
      "C:\\Users\\LENOVO\\AppData\\Local\\Programs\\Python\\Python313\\Lib\\site-packages\\sklearn\\metrics\\_classification.py:1565: UndefinedMetricWarning: Precision is ill-defined and being set to 0.0 in labels with no predicted samples. Use `zero_division` parameter to control this behavior.\n",
      "  _warn_prf(average, modifier, f\"{metric.capitalize()} is\", len(result))\n",
      "C:\\Users\\LENOVO\\AppData\\Local\\Programs\\Python\\Python313\\Lib\\site-packages\\sklearn\\metrics\\_classification.py:1565: UndefinedMetricWarning: Precision is ill-defined and being set to 0.0 in labels with no predicted samples. Use `zero_division` parameter to control this behavior.\n",
      "  _warn_prf(average, modifier, f\"{metric.capitalize()} is\", len(result))\n"
     ]
    }
   ],
   "source": [
    "X = X_train\n",
    "y = df['genre']\n",
    "X_train, X_val, y_train, y_val = train_test_split(X, y, test_size=0.2, random_state=42)\n",
    "classifier = MultinomialNB()\n",
    "classifier.fit(X_train, y_train)\n",
    "y_pred = classifier.predict(X_val)\n",
    "accuracy = accuracy_score(y_val, y_pred)\n",
    "print(\"Validation Accuracy:\", accuracy)\n",
    "print(classification_report(y_val, y_pred))"
   ]
  },
  {
   "cell_type": "code",
   "execution_count": 64,
   "id": "0a1b560d-5bbc-4372-a1bd-427242aa9369",
   "metadata": {},
   "outputs": [
    {
     "name": "stdout",
     "output_type": "stream",
     "text": [
      "1     l.r. brane loves his life - his car, his apar...\n",
      "2     spain, march 1964: quico is a very naughty ch...\n",
      "3     one year in the life of albin and his family ...\n",
      "4     his father has died, he hasn't spoken with hi...\n",
      "5     before he was known internationally as a mart...\n",
      "Name: description_cleaned_test, dtype: object\n",
      "0\n",
      "X_train shape: (54214, 121110)\n",
      "X_test shape: (54200, 121110)\n"
     ]
    }
   ],
   "source": [
    "tfidf_vectorizer = TfidfVectorizer()  # Initialize vectorizer\n",
    "\n",
    "# Fit on training data and transform\n",
    "X_train = tfidf_vectorizer.fit_transform(df['description_cleaned'])\n",
    "\n",
    "# Transform the test data using the same vectorizer\n",
    "X_test = tfidf_vectorizer.transform(df_test['description_cleaned_test'])\n",
    "print(df_test['description_cleaned_test'].head())\n",
    "print(df_test['description_cleaned_test'].isnull().sum())  # Check for NaNs\n",
    "df_test['description_cleaned_test'] = df_test['description_cleaned_test'].fillna(\"\")\n",
    "print(\"X_train shape:\", X_train.shape)\n",
    "print(\"X_test shape:\", X_test.shape)\n",
    "X_test_predictions = classifier.predict(X_test)\n",
    "df_test['Predicted_Genre'] = X_test_predictions\n"
   ]
  },
  {
   "cell_type": "code",
   "execution_count": 65,
   "id": "92cd6b4b-2164-44be-af86-9900e2e36d6e",
   "metadata": {},
   "outputs": [
    {
     "data": {
      "text/html": [
       "<div>\n",
       "<style scoped>\n",
       "    .dataframe tbody tr th:only-of-type {\n",
       "        vertical-align: middle;\n",
       "    }\n",
       "\n",
       "    .dataframe tbody tr th {\n",
       "        vertical-align: top;\n",
       "    }\n",
       "\n",
       "    .dataframe thead th {\n",
       "        text-align: right;\n",
       "    }\n",
       "</style>\n",
       "<table border=\"1\" class=\"dataframe\">\n",
       "  <thead>\n",
       "    <tr style=\"text-align: right;\">\n",
       "      <th></th>\n",
       "      <th>title</th>\n",
       "      <th>description_test</th>\n",
       "      <th>description_cleaned_test</th>\n",
       "      <th>Predicted_Genre</th>\n",
       "    </tr>\n",
       "  </thead>\n",
       "  <tbody>\n",
       "    <tr>\n",
       "      <th>1</th>\n",
       "      <td>Edgar's Lunch (1998)</td>\n",
       "      <td>L.R. Brane loves his life - his car, his apar...</td>\n",
       "      <td>l.r. brane loves his life - his car, his apar...</td>\n",
       "      <td>drama</td>\n",
       "    </tr>\n",
       "    <tr>\n",
       "      <th>2</th>\n",
       "      <td>La guerra de papá (1977)</td>\n",
       "      <td>Spain, March 1964: Quico is a very naughty ch...</td>\n",
       "      <td>spain, march 1964: quico is a very naughty ch...</td>\n",
       "      <td>drama</td>\n",
       "    </tr>\n",
       "    <tr>\n",
       "      <th>3</th>\n",
       "      <td>Off the Beaten Track (2010)</td>\n",
       "      <td>One year in the life of Albin and his family ...</td>\n",
       "      <td>one year in the life of albin and his family ...</td>\n",
       "      <td>documentary</td>\n",
       "    </tr>\n",
       "    <tr>\n",
       "      <th>4</th>\n",
       "      <td>Meu Amigo Hindu (2015)</td>\n",
       "      <td>His father has died, he hasn't spoken with hi...</td>\n",
       "      <td>his father has died, he hasn't spoken with hi...</td>\n",
       "      <td>drama</td>\n",
       "    </tr>\n",
       "    <tr>\n",
       "      <th>5</th>\n",
       "      <td>Er nu zhai (1955)</td>\n",
       "      <td>Before he was known internationally as a mart...</td>\n",
       "      <td>before he was known internationally as a mart...</td>\n",
       "      <td>drama</td>\n",
       "    </tr>\n",
       "    <tr>\n",
       "      <th>...</th>\n",
       "      <td>...</td>\n",
       "      <td>...</td>\n",
       "      <td>...</td>\n",
       "      <td>...</td>\n",
       "    </tr>\n",
       "    <tr>\n",
       "      <th>54196</th>\n",
       "      <td>\"Tales of Light &amp; Dark\" (2013)</td>\n",
       "      <td>Covering multiple genres, Tales of Light &amp; Da...</td>\n",
       "      <td>covering multiple genres, tales of light &amp; da...</td>\n",
       "      <td>drama</td>\n",
       "    </tr>\n",
       "    <tr>\n",
       "      <th>54197</th>\n",
       "      <td>Der letzte Mohikaner (1965)</td>\n",
       "      <td>As Alice and Cora Munro attempt to find their...</td>\n",
       "      <td>as alice and cora munro attempt to find their...</td>\n",
       "      <td>drama</td>\n",
       "    </tr>\n",
       "    <tr>\n",
       "      <th>54198</th>\n",
       "      <td>Oliver Twink (2007)</td>\n",
       "      <td>A movie 169 years in the making. Oliver Twist...</td>\n",
       "      <td>a movie 169 years in the making. oliver twist...</td>\n",
       "      <td>drama</td>\n",
       "    </tr>\n",
       "    <tr>\n",
       "      <th>54199</th>\n",
       "      <td>Slipstream (1973)</td>\n",
       "      <td>Popular, but mysterious rock D.J Mike Mallard...</td>\n",
       "      <td>popular, but mysterious rock d.j mike mallard...</td>\n",
       "      <td>drama</td>\n",
       "    </tr>\n",
       "    <tr>\n",
       "      <th>54200</th>\n",
       "      <td>Curitiba Zero Grau (2010)</td>\n",
       "      <td>Curitiba is a city in movement, with rhythms ...</td>\n",
       "      <td>curitiba is a city in movement, with rhythms ...</td>\n",
       "      <td>documentary</td>\n",
       "    </tr>\n",
       "  </tbody>\n",
       "</table>\n",
       "<p>54200 rows × 4 columns</p>\n",
       "</div>"
      ],
      "text/plain": [
       "                                  title  \\\n",
       "1                 Edgar's Lunch (1998)    \n",
       "2             La guerra de papá (1977)    \n",
       "3          Off the Beaten Track (2010)    \n",
       "4               Meu Amigo Hindu (2015)    \n",
       "5                    Er nu zhai (1955)    \n",
       "...                                 ...   \n",
       "54196   \"Tales of Light & Dark\" (2013)    \n",
       "54197      Der letzte Mohikaner (1965)    \n",
       "54198              Oliver Twink (2007)    \n",
       "54199                Slipstream (1973)    \n",
       "54200        Curitiba Zero Grau (2010)    \n",
       "\n",
       "                                        description_test  \\\n",
       "1       L.R. Brane loves his life - his car, his apar...   \n",
       "2       Spain, March 1964: Quico is a very naughty ch...   \n",
       "3       One year in the life of Albin and his family ...   \n",
       "4       His father has died, he hasn't spoken with hi...   \n",
       "5       Before he was known internationally as a mart...   \n",
       "...                                                  ...   \n",
       "54196   Covering multiple genres, Tales of Light & Da...   \n",
       "54197   As Alice and Cora Munro attempt to find their...   \n",
       "54198   A movie 169 years in the making. Oliver Twist...   \n",
       "54199   Popular, but mysterious rock D.J Mike Mallard...   \n",
       "54200   Curitiba is a city in movement, with rhythms ...   \n",
       "\n",
       "                                description_cleaned_test Predicted_Genre  \n",
       "1       l.r. brane loves his life - his car, his apar...          drama   \n",
       "2       spain, march 1964: quico is a very naughty ch...          drama   \n",
       "3       one year in the life of albin and his family ...    documentary   \n",
       "4       his father has died, he hasn't spoken with hi...          drama   \n",
       "5       before he was known internationally as a mart...          drama   \n",
       "...                                                  ...             ...  \n",
       "54196   covering multiple genres, tales of light & da...          drama   \n",
       "54197   as alice and cora munro attempt to find their...          drama   \n",
       "54198   a movie 169 years in the making. oliver twist...          drama   \n",
       "54199   popular, but mysterious rock d.j mike mallard...          drama   \n",
       "54200   curitiba is a city in movement, with rhythms ...    documentary   \n",
       "\n",
       "[54200 rows x 4 columns]"
      ]
     },
     "execution_count": 65,
     "metadata": {},
     "output_type": "execute_result"
    }
   ],
   "source": [
    "df_test"
   ]
  },
  {
   "cell_type": "code",
   "execution_count": null,
   "id": "fe60562d-a88b-48ec-b192-26a26fa230dc",
   "metadata": {},
   "outputs": [],
   "source": []
  }
 ],
 "metadata": {
  "kernelspec": {
   "display_name": "Python 3 (ipykernel)",
   "language": "python",
   "name": "python3"
  },
  "language_info": {
   "codemirror_mode": {
    "name": "ipython",
    "version": 3
   },
   "file_extension": ".py",
   "mimetype": "text/x-python",
   "name": "python",
   "nbconvert_exporter": "python",
   "pygments_lexer": "ipython3",
   "version": "3.13.1"
  }
 },
 "nbformat": 4,
 "nbformat_minor": 5
}
